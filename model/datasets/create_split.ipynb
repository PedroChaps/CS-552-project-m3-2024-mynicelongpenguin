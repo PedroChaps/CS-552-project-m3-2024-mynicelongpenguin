{
 "cells": [
  {
   "cell_type": "code",
   "execution_count": 17,
   "metadata": {},
   "outputs": [],
   "source": [
    "from datasets import load_dataset, concatenate_datasets\n",
    "import random\n",
    "\n",
    "sciq_path = \"/scratch/izar/aloureir/project-m3-2024-mynicelongpenguin/model/datasets/Filtered_SciQ_Dataset_with_explanation.jsonl\"\n",
    "deepmind_path = \"/scratch/izar/aloureir/project-m3-2024-mynicelongpenguin/model/datasets/Transformed_DeepMind_Algebra_QA_with_explanation.jsonl\"\n",
    "\n",
    "seed = 42"
   ]
  },
  {
   "cell_type": "code",
   "execution_count": 18,
   "metadata": {},
   "outputs": [],
   "source": [
    "sciq = load_dataset(\"json\", data_files=sciq_path, split=\"train\")\n",
    "deepmind = load_dataset(\"json\", data_files=deepmind_path, split=\"train\")\n",
    "\n",
    "sciq = sciq.shuffle(seed=seed)\n",
    "deepmind = deepmind.shuffle(seed=seed)"
   ]
  },
  {
   "cell_type": "code",
   "execution_count": 19,
   "metadata": {},
   "outputs": [
    {
     "name": "stdout",
     "output_type": "stream",
     "text": [
      "Dataset({\n",
      "    features: ['question', 'answer', 'explanation', 'related'],\n",
      "    num_rows: 9997\n",
      "})\n",
      "Dataset({\n",
      "    features: ['question', 'answer', 'explanation'],\n",
      "    num_rows: 97467\n",
      "})\n"
     ]
    }
   ],
   "source": [
    "print(sciq)\n",
    "print(deepmind)"
   ]
  },
  {
   "cell_type": "code",
   "execution_count": 20,
   "metadata": {},
   "outputs": [
    {
     "name": "stdout",
     "output_type": "stream",
     "text": [
      "{'question': 'Question: What is the process in which one cell divides to form two new cells called?\\n\\nOptions:\\nA. Cell Formation\\nB. cell contribution\\nC. cell direction\\nD. cell division\\n\\nAnswer:', 'answer': 'D', 'explanation': 'Cell division is part of the life cycle of virtually all cells. Cell division is the process in which one cell divides to form two new cells.', 'related': True}\n",
      "\n",
      "{'question': 'Question: A, B and C rents a pasture for Rs.950. A put in 12 horses for 8 months, B 16 horses for 9 months and 18 horses for 6 months. How much should C pay?\\n\\nOptions:\\nA)295\\nB)199\\nC)676\\nD)156\\nE)122\\n\\nAnswer:', 'answer': 'A', 'explanation': '12*8 :16*9 = 18*6\\n8: 12: 9\\n9/29 * 950= 295\\nAnswer: A'}\n"
     ]
    }
   ],
   "source": [
    "idx = random.randint(0, len(sciq))\n",
    "print(sciq[idx])\n",
    "\n",
    "print()\n",
    "idx = random.randint(0, len(deepmind))\n",
    "\n",
    "print(deepmind[idx])"
   ]
  },
  {
   "cell_type": "markdown",
   "metadata": {},
   "source": [
    "### Create test dataset\n",
    "Uses 20% of each dataset as test"
   ]
  },
  {
   "cell_type": "code",
   "execution_count": 21,
   "metadata": {},
   "outputs": [
    {
     "name": "stdout",
     "output_type": "stream",
     "text": [
      "len(sciq_train) = 7997 len(sciq_test) = 2000\n",
      "len(deepmind_train) = 77973 len(deepmind_test) = 19494\n"
     ]
    },
    {
     "name": "stderr",
     "output_type": "stream",
     "text": [
      "Creating json from Arrow format:   0%|          | 0/22 [00:00<?, ?ba/s]"
     ]
    },
    {
     "name": "stderr",
     "output_type": "stream",
     "text": [
      "Creating json from Arrow format: 100%|██████████| 22/22 [00:00<00:00, 79.25ba/s]"
     ]
    },
    {
     "name": "stdout",
     "output_type": "stream",
     "text": [
      "len(test_dataset) = 21494\n"
     ]
    },
    {
     "name": "stderr",
     "output_type": "stream",
     "text": [
      "\n"
     ]
    }
   ],
   "source": [
    "sciq = sciq.train_test_split(test_size=0.2)\n",
    "sciq_train, sciq_test = sciq[\"train\"], sciq[\"test\"]\n",
    "\n",
    "print(f\"{len(sciq_train) = } {len(sciq_test) = }\")\n",
    "\n",
    "deepmind  = deepmind.train_test_split(test_size=0.2)\n",
    "deepmind_train, deepmind_test = deepmind[\"train\"], deepmind[\"test\"]\n",
    "\n",
    "print(f\"{len(deepmind_train) = } {len(deepmind_test) = }\")\n",
    "\n",
    "test_dataset = concatenate_datasets([sciq_test, deepmind_test])\n",
    "\n",
    "test_dataset.to_json(\"test_dataset.jsonl\", lines=True)\n",
    "\n",
    "print(f\"{len(test_dataset) = }\")"
   ]
  },
  {
   "cell_type": "markdown",
   "metadata": {},
   "source": [
    "### Create train datasets"
   ]
  },
  {
   "cell_type": "code",
   "execution_count": 22,
   "metadata": {},
   "outputs": [],
   "source": [
    "def create_combined_datasets(datasetA, datasetB, sizeA, sizeB):\n",
    "    sampledA = datasetA.shuffle(seed=seed).select(range(sizeA))\n",
    "    sampledB= datasetB.shuffle(seed=seed).select(range(sizeB))\n",
    "\n",
    "    combined = concatenate_datasets([sampledA, sampledB])\n",
    "\n",
    "    return combined"
   ]
  },
  {
   "cell_type": "code",
   "execution_count": 23,
   "metadata": {},
   "outputs": [],
   "source": [
    "TOTAL_SIZE = 50000\n",
    "len_sciq = len(sciq_train)\n",
    "\n",
    "sizes = [(len_sciq, TOTAL_SIZE - len_sciq), (int(0.75 * len_sciq), TOTAL_SIZE - int(0.75 * len_sciq)), (int(0.5 * len_sciq), TOTAL_SIZE - int(0.5 * len_sciq)), (int(0.25 * len_sciq), TOTAL_SIZE - int(0.25 * len_sciq))]"
   ]
  },
  {
   "cell_type": "code",
   "execution_count": 24,
   "metadata": {},
   "outputs": [
    {
     "name": "stderr",
     "output_type": "stream",
     "text": [
      "Creating json from Arrow format: 100%|██████████| 50/50 [00:00<00:00, 94.21ba/s]\n",
      "Creating json from Arrow format: 100%|██████████| 50/50 [00:00<00:00, 96.29ba/s] \n",
      "Creating json from Arrow format: 100%|██████████| 50/50 [00:00<00:00, 92.51ba/s]\n",
      "Creating json from Arrow format: 100%|██████████| 50/50 [00:00<00:00, 99.26ba/s] \n"
     ]
    }
   ],
   "source": [
    "for size_sciq, size_deepmind in sizes:\n",
    "    dataset = create_combined_datasets(sciq_train, deepmind_train, size_sciq, size_deepmind)\n",
    "    dataset.to_json(\"train_dataset_{}.jsonl\".format(size_sciq), lines=True)"
   ]
  }
 ],
 "metadata": {
  "kernelspec": {
   "display_name": "sft_mcq",
   "language": "python",
   "name": "python3"
  },
  "language_info": {
   "codemirror_mode": {
    "name": "ipython",
    "version": 3
   },
   "file_extension": ".py",
   "mimetype": "text/x-python",
   "name": "python",
   "nbconvert_exporter": "python",
   "pygments_lexer": "ipython3",
   "version": "3.10.4"
  }
 },
 "nbformat": 4,
 "nbformat_minor": 2
}
